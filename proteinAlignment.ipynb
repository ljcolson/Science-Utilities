{
 "cells": [
  {
   "cell_type": "code",
   "execution_count": 1,
   "metadata": {},
   "outputs": [],
   "source": [
    "import numpy as np\n",
    "from tempfile import gettempdir\n",
    "import biotite.structure.io.pdb as pdb\n",
    "import biotite.database.rcsb as rcsb"
   ]
  },
  {
   "cell_type": "code",
   "execution_count": 2,
   "metadata": {},
   "outputs": [],
   "source": [
    "def centroid(coords):\n",
    "    \"\"\"Compute the geometric center (centroid) of a set of coordinates.\"\"\"\n",
    "    return np.mean(coords, axis=0)\n",
    "\n",
    "def kabsch_rotation_matrix(A, B):\n",
    "    \"\"\"Return a rotation matrix using the Kabsch algorithm.\"\"\"\n",
    "    # Compute the covariance matrix\n",
    "    C = np.dot(np.transpose(A), B)\n",
    "    \n",
    "    # Singular value decomposition\n",
    "    V, S, Wt = np.linalg.svd(C)\n",
    "    \n",
    "    # Ensure a right-handed coordinate system\n",
    "    d = (np.linalg.det(V) * np.linalg.det(Wt)) < 0.0\n",
    "    \n",
    "    if d:\n",
    "        S[-1] = -S[-1]\n",
    "        V[:,-1] = -V[:,-1]\n",
    "    \n",
    "    # Compute the rotation matrix\n",
    "    U = np.dot(V, Wt)\n",
    "    return U\n",
    "\n",
    "def rotation_matrix_to_euler_angles(R):\n",
    "    \"\"\"\n",
    "    Convert a rotation matrix to Euler angles (XYZ order).\n",
    "    \n",
    "    Parameters:\n",
    "    R (ndarray): A 3x3 rotation matrix.\n",
    "\n",
    "    Returns:\n",
    "    tuple: A tuple of three Euler angles (alpha, beta, gamma).\n",
    "    \"\"\"\n",
    "    assert R.shape == (3, 3)\n",
    "    \n",
    "    beta = np.arctan2(-R[2, 0], np.sqrt(R[2, 1]**2 + R[2, 2]**2))\n",
    "    alpha = np.arctan2(R[2, 1], R[2, 2])\n",
    "    gamma = np.arctan2(R[1, 0], R[0, 0])\n",
    "    \n",
    "    return alpha, beta, gamma"
   ]
  },
  {
   "cell_type": "code",
   "execution_count": 3,
   "metadata": {},
   "outputs": [
    {
     "name": "stdout",
     "output_type": "stream",
     "text": [
      "(76,)\n"
     ]
    }
   ],
   "source": [
    "pdb_file_path = rcsb.fetch(\"1ubi\", \"pdb\", gettempdir())\n",
    "target_pdb_file = pdb.PDBFile.read(pdb_file_path)\n",
    "target_structure = target_pdb_file.get_structure()\n",
    "\n",
    "# get the alpha carbon coordinates\n",
    "target_CA_idx = np.argwhere(target_structure.atom_name==\"CA\")\n",
    "target_CA_idx = target_CA_idx.reshape((-1,))\n",
    "print(np.shape(target_CA_idx))"
   ]
  },
  {
   "cell_type": "code",
   "execution_count": 4,
   "metadata": {},
   "outputs": [
    {
     "name": "stdout",
     "output_type": "stream",
     "text": [
      "(76,)\n"
     ]
    }
   ],
   "source": [
    "pdb_file_path = rcsb.fetch(\"6tuv\", \"pdb\", gettempdir())\n",
    "mobile_pdb_file = pdb.PDBFile.read(pdb_file_path)\n",
    "mobile_structure = mobile_pdb_file.get_structure()\n",
    "\n",
    "# get the alpha carbon coordinates\n",
    "mobile_CA_idx = np.argwhere(mobile_structure.atom_name==\"CA\")\n",
    "mobile_CA_idx = mobile_CA_idx.reshape((-1,))\n",
    "\n",
    "# can also add more filters like selecting chain D\n",
    "temp_idx = np.argwhere(mobile_structure.chain_id[mobile_CA_idx]==\"D\")\n",
    "temp_idx = temp_idx.reshape((-1,))\n",
    "mobile_CA_idx = mobile_CA_idx[temp_idx]\n",
    "print(np.shape(mobile_CA_idx))"
   ]
  },
  {
   "cell_type": "code",
   "execution_count": 5,
   "metadata": {},
   "outputs": [
    {
     "name": "stdout",
     "output_type": "stream",
     "text": [
      "Translate target molecule by x: -0.3044176292419434 y: -0.29000947952270506 z: -0.1552194881439209 to align to center\n",
      "Translate mobile molecule by x: -0.25101184844970703 y: -0.21613740921020508 z: -0.3967397689819336 to align to center\n"
     ]
    }
   ],
   "source": [
    "mobile_atom_coords = mobile_structure.coord[0,mobile_CA_idx,:]\n",
    "target_atom_coords = target_structure.coord[0,target_CA_idx,:]\n",
    "\n",
    "# Translate both A and B to their centroids\n",
    "target_centroid = centroid(target_atom_coords)\n",
    "mobile_centroid = centroid(mobile_atom_coords)\n",
    "A2 = target_atom_coords.copy()\n",
    "B2 = mobile_atom_coords.copy()\n",
    "\n",
    "print(f\"Translate target molecule by x: {-target_centroid[0]/100} y: {-target_centroid[1]/100} z: {-target_centroid[2]/100} to align to center\")\n",
    "print(f\"Translate mobile molecule by x: {-mobile_centroid[0]/100} y: {-mobile_centroid[1]/100} z: {-mobile_centroid[2]/100} to align to center\")"
   ]
  },
  {
   "cell_type": "code",
   "execution_count": 6,
   "metadata": {},
   "outputs": [
    {
     "name": "stdout",
     "output_type": "stream",
     "text": [
      "Rotate mobile molecule about X (alpha): -96.15°\n",
      "Rotate mobile molecule about Y (beta): -32.74°\n",
      "Rotate mobile molecule about Z (gamma): 154.18°\n"
     ]
    }
   ],
   "source": [
    "# move the protein's center of mass to 0,0,0\n",
    "A2 -= target_centroid\n",
    "B2 -= mobile_centroid\n",
    "\n",
    "# Compute the optimal rotation matrix\n",
    "U = kabsch_rotation_matrix(A2, B2)\n",
    "\n",
    "# Get Euler angles\n",
    "alpha, beta, gamma = rotation_matrix_to_euler_angles(U)\n",
    "# Convert to degrees if needed\n",
    "alpha_deg = np.degrees(alpha)\n",
    "beta_deg = np.degrees(beta)\n",
    "gamma_deg = np.degrees(gamma)\n",
    "\n",
    "print(f\"Rotate mobile molecule about X (alpha): {alpha_deg:.2f}°\")\n",
    "print(f\"Rotate mobile molecule about Y (beta): {beta_deg:.2f}°\")\n",
    "print(f\"Rotate mobile molecule about Z (gamma): {gamma_deg:.2f}°\")"
   ]
  },
  {
   "cell_type": "markdown",
   "metadata": {},
   "source": [
    "If you don't want to translate your target molecule, then you can translate your mobile molecule (after you rotate your mobile molecule) by the opposite of what you would have translated your target molecule (shown above \"Translate target molecule by...\")"
   ]
  },
  {
   "cell_type": "code",
   "execution_count": 9,
   "metadata": {},
   "outputs": [
    {
     "name": "stdout",
     "output_type": "stream",
     "text": [
      "OPTIONAL. If you don't want your molecules to be centered then: \n",
      "Translate mobile molecule by x: 0.3044176292419434 y: 0.29000947952270506 z: 0.1552194881439209 to align with target molecule centroid\n"
     ]
    }
   ],
   "source": [
    "# translate your mobile molecule to your target molecule: \n",
    "print(f\"OPTIONAL. If you don't want your molecules to be centered then: \")\n",
    "print(f\"Translate mobile molecule by x: {target_centroid[0]/100} y: {target_centroid[1]/100} z: {target_centroid[2]/100} to align with target molecule centroid\")\n"
   ]
  },
  {
   "cell_type": "code",
   "execution_count": null,
   "metadata": {},
   "outputs": [],
   "source": []
  }
 ],
 "metadata": {
  "kernelspec": {
   "display_name": "Python 3",
   "language": "python",
   "name": "python3"
  },
  "language_info": {
   "codemirror_mode": {
    "name": "ipython",
    "version": 3
   },
   "file_extension": ".py",
   "mimetype": "text/x-python",
   "name": "python",
   "nbconvert_exporter": "python",
   "pygments_lexer": "ipython3",
   "version": "3.11.5"
  }
 },
 "nbformat": 4,
 "nbformat_minor": 2
}
